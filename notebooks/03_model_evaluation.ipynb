{
 "cells": [
  {
   "cell_type": "markdown",
   "id": "cc754b38-680b-4890-99f1-cfb9aab16552",
   "metadata": {},
   "source": [
    "# 03 — Model Evaluation\n",
    "\n",
    "This notebook evaluates the fine-tuned **BART-base** model on the *scientific_papers/arxiv* dataset.\n",
    "\n",
    "We'll:\n",
    "1. Load the saved model checkpoint.\n",
    "2. Generate summaries for the validation set.\n",
    "3. Compute **ROUGE** and **BERTScore** metrics.\n",
    "4. Save quantitative and qualitative results.\n",
    "\n",
    "Evaluation metrics:\n",
    "- **ROUGE-1/2/L** → lexical overlap\n",
    "- **BERTScore** → semantic similarity (contextual)\n",
    "\n",
    "Results will be saved under `outputs/eval/` as:\n",
    "- `metrics.json`\n",
    "- `examples.json`"
   ]
  },
  {
   "cell_type": "code",
   "execution_count": 1,
   "id": "3181fe73-0138-49b3-8ebb-90b79ae6f5b3",
   "metadata": {},
   "outputs": [
    {
     "name": "stdout",
     "output_type": "stream",
     "text": [
      "Environment ready.\n"
     ]
    }
   ],
   "source": [
    "import os\n",
    "import sys\n",
    "sys.path.append(os.path.abspath(os.path.join(os.getcwd(), \"..\")))\n",
    "import json\n",
    "from tqdm import tqdm\n",
    "import evaluate\n",
    "from datasets import load_from_disk\n",
    "from transformers import AutoModelForSeq2SeqLM, AutoTokenizer\n",
    "from src.seed_utils import set_seed\n",
    "\n",
    "set_seed(42)\n",
    "\n",
    "# Paths\n",
    "model_path = \"../outputs/model\"\n",
    "tokenized_cache = \"../data/cache/scientific_papers_arxiv_bartbase_1024_256_tok\"\n",
    "save_dir = \"../outputs/eval\"\n",
    "os.makedirs(save_dir, exist_ok=True)\n",
    "\n",
    "print(\"Environment ready.\")"
   ]
  },
  {
   "cell_type": "markdown",
   "id": "c20d4b64-fb8b-4a48-9afc-ad9208b78496",
   "metadata": {},
   "source": [
    "## Load fine-tuned model and tokenizer\n",
    "\n",
    "We’ll load the model and tokenizer from `outputs/model/`."
   ]
  },
  {
   "cell_type": "code",
   "execution_count": 2,
   "id": "f27bec3f-dab5-468f-a2e3-56f0d99c13c6",
   "metadata": {},
   "outputs": [
    {
     "name": "stdout",
     "output_type": "stream",
     "text": [
      "Model and tokenizer loaded successfully.\n"
     ]
    }
   ],
   "source": [
    "tokenizer = AutoTokenizer.from_pretrained(model_path)\n",
    "model = AutoModelForSeq2SeqLM.from_pretrained(model_path)\n",
    "model.eval()\n",
    "print(\"Model and tokenizer loaded successfully.\")"
   ]
  },
  {
   "cell_type": "markdown",
   "id": "c6c0c54d-0b74-4984-8718-482c915eea59",
   "metadata": {},
   "source": [
    "## Load validation/test split\n",
    "\n",
    "We'll use the validation set (4K samples) for evaluation.  \n",
    "If you have a separate test set, you can switch the split to `\"test\"`."
   ]
  },
  {
   "cell_type": "code",
   "execution_count": 3,
   "id": "3e64cfb5-87a6-43b8-a0cd-5591bd27c941",
   "metadata": {},
   "outputs": [
    {
     "data": {
      "application/vnd.jupyter.widget-view+json": {
       "model_id": "ad3e8d75e1824dbc8027821cfc08c712",
       "version_major": 2,
       "version_minor": 0
      },
      "text/plain": [
       "Loading dataset from disk:   0%|          | 0/17 [00:00<?, ?it/s]"
      ]
     },
     "metadata": {},
     "output_type": "display_data"
    },
    {
     "name": "stdout",
     "output_type": "stream",
     "text": [
      "Loaded 6436 samples from validation split.\n"
     ]
    }
   ],
   "source": [
    "split = \"validation\"  # or \"test\"\n",
    "dataset = load_from_disk(tokenized_cache)[split]\n",
    "print(f\"Loaded {len(dataset)} samples from {split} split.\")"
   ]
  },
  {
   "cell_type": "markdown",
   "id": "4f9d9368-261c-4332-b2be-21fdf6171e95",
   "metadata": {},
   "source": [
    "## Helper functions for decoding and evaluation"
   ]
  },
  {
   "cell_type": "code",
   "execution_count": 4,
   "id": "781b395d-7be2-4aa6-828d-f34eb27c0ec0",
   "metadata": {},
   "outputs": [],
   "source": [
    "def decode_batch(tokenizer, sequences):\n",
    "    return tokenizer.batch_decode(sequences, skip_special_tokens=True, clean_up_tokenization_spaces=True)\n",
    "\n",
    "def prepare_labels_for_decode(dataset_split, tokenizer):\n",
    "    pad_id = tokenizer.pad_token_id\n",
    "    return [[(tid if tid != -100 else pad_id) for tid in row[\"labels\"]] for row in dataset_split]"
   ]
  },
  {
   "cell_type": "markdown",
   "id": "fbee49d2-0fc7-4b6a-aab3-116b2a97356c",
   "metadata": {},
   "source": [
    "## Generate model summaries\n",
    "\n",
    "We'll generate model predictions for each paper abstract in the validation split.\n",
    "For demonstration, we’ll use a small sample (e.g., 200 examples) to save time."
   ]
  },
  {
   "cell_type": "code",
   "execution_count": 5,
   "id": "ac91e04b-fbf8-4675-8575-69803a8ef102",
   "metadata": {},
   "outputs": [
    {
     "name": "stdout",
     "output_type": "stream",
     "text": [
      "Generating summaries...\n"
     ]
    },
    {
     "name": "stderr",
     "output_type": "stream",
     "text": [
      "100%|██████████| 200/200 [10:55<00:00,  3.28s/it]\n"
     ]
    },
    {
     "name": "stdout",
     "output_type": "stream",
     "text": [
      "Generated 200 summaries.\n"
     ]
    }
   ],
   "source": [
    "from tqdm import tqdm\n",
    "\n",
    "num_samples = 200  # adjust to 1000 or more later\n",
    "subset = dataset.select(range(num_samples))\n",
    "\n",
    "predictions = []\n",
    "references = []\n",
    "\n",
    "print(\"Generating summaries...\")\n",
    "for row in tqdm(subset):\n",
    "    input_text = tokenizer.decode(row[\"input_ids\"], skip_special_tokens=True)\n",
    "    inputs = tokenizer(input_text, return_tensors=\"pt\", truncation=True, max_length=1024)\n",
    "    output_ids = model.generate(\n",
    "        **inputs,\n",
    "        max_new_tokens=128,\n",
    "        num_beams=4,\n",
    "        early_stopping=True\n",
    "    )[0]\n",
    "    pred = tokenizer.decode(output_ids, skip_special_tokens=True)\n",
    "    predictions.append(pred)\n",
    "\n",
    "label_ids = prepare_labels_for_decode(subset, tokenizer)\n",
    "references = decode_batch(tokenizer, label_ids)\n",
    "\n",
    "print(f\"Generated {len(predictions)} summaries.\")"
   ]
  },
  {
   "cell_type": "markdown",
   "id": "6de6cd91-c2bc-4437-ba7e-f9229146a06e",
   "metadata": {},
   "source": [
    "## Compute ROUGE and BERTScore"
   ]
  },
  {
   "cell_type": "code",
   "execution_count": 6,
   "id": "4c27e499-3337-432b-a42d-38757424a442",
   "metadata": {},
   "outputs": [
    {
     "name": "stdout",
     "output_type": "stream",
     "text": [
      "Computing ROUGE...\n",
      "Computing BERTScore...\n"
     ]
    },
    {
     "data": {
      "application/vnd.jupyter.widget-view+json": {
       "model_id": "7d5ae83f00db46b2978512890eddaaa2",
       "version_major": 2,
       "version_minor": 0
      },
      "text/plain": [
       "tokenizer_config.json:   0%|          | 0.00/25.0 [00:00<?, ?B/s]"
      ]
     },
     "metadata": {},
     "output_type": "display_data"
    },
    {
     "data": {
      "application/vnd.jupyter.widget-view+json": {
       "model_id": "c99dd6073454452ebaa78254427334af",
       "version_major": 2,
       "version_minor": 0
      },
      "text/plain": [
       "config.json:   0%|          | 0.00/482 [00:00<?, ?B/s]"
      ]
     },
     "metadata": {},
     "output_type": "display_data"
    },
    {
     "data": {
      "application/vnd.jupyter.widget-view+json": {
       "model_id": "9999b1c662df481a89feef3448f559cc",
       "version_major": 2,
       "version_minor": 0
      },
      "text/plain": [
       "vocab.json:   0%|          | 0.00/899k [00:00<?, ?B/s]"
      ]
     },
     "metadata": {},
     "output_type": "display_data"
    },
    {
     "data": {
      "application/vnd.jupyter.widget-view+json": {
       "model_id": "badc4a9eaa324a3ba8986921ae843e27",
       "version_major": 2,
       "version_minor": 0
      },
      "text/plain": [
       "merges.txt:   0%|          | 0.00/456k [00:00<?, ?B/s]"
      ]
     },
     "metadata": {},
     "output_type": "display_data"
    },
    {
     "data": {
      "application/vnd.jupyter.widget-view+json": {
       "model_id": "d2b231ebc3454ae4957c7ff02662aac5",
       "version_major": 2,
       "version_minor": 0
      },
      "text/plain": [
       "tokenizer.json:   0%|          | 0.00/1.36M [00:00<?, ?B/s]"
      ]
     },
     "metadata": {},
     "output_type": "display_data"
    },
    {
     "data": {
      "application/vnd.jupyter.widget-view+json": {
       "model_id": "159609711b22447baf601b138fa63ad5",
       "version_major": 2,
       "version_minor": 0
      },
      "text/plain": [
       "model.safetensors:   0%|          | 0.00/1.42G [00:00<?, ?B/s]"
      ]
     },
     "metadata": {},
     "output_type": "display_data"
    },
    {
     "name": "stderr",
     "output_type": "stream",
     "text": [
      "Some weights of RobertaModel were not initialized from the model checkpoint at roberta-large and are newly initialized: ['roberta.pooler.dense.bias', 'roberta.pooler.dense.weight']\n",
      "You should probably TRAIN this model on a down-stream task to be able to use it for predictions and inference.\n"
     ]
    },
    {
     "name": "stdout",
     "output_type": "stream",
     "text": [
      "\n",
      "=== Evaluation Results ===\n",
      "rouge1: 36.8\n",
      "rouge2: 13.29\n",
      "rougeL: 22.33\n",
      "bertscore_precision: 86.36\n",
      "bertscore_recall: 84.06\n",
      "bertscore_f1: 85.17\n"
     ]
    }
   ],
   "source": [
    "rouge = evaluate.load(\"rouge\")\n",
    "bertscore = evaluate.load(\"bertscore\")\n",
    "\n",
    "print(\"Computing ROUGE...\")\n",
    "rouge_scores = rouge.compute(predictions=predictions, references=references, use_stemmer=True)\n",
    "\n",
    "print(\"Computing BERTScore...\")\n",
    "bert_scores = bertscore.compute(predictions=predictions, references=references, lang=\"en\")\n",
    "\n",
    "results = {\n",
    "    \"rouge1\": round(rouge_scores[\"rouge1\"] * 100, 2),\n",
    "    \"rouge2\": round(rouge_scores[\"rouge2\"] * 100, 2),\n",
    "    \"rougeL\": round(rouge_scores[\"rougeL\"] * 100, 2),\n",
    "    \"bertscore_precision\": round(sum(bert_scores[\"precision\"]) / len(bert_scores[\"precision\"]) * 100, 2),\n",
    "    \"bertscore_recall\": round(sum(bert_scores[\"recall\"]) / len(bert_scores[\"recall\"]) * 100, 2),\n",
    "    \"bertscore_f1\": round(sum(bert_scores[\"f1\"]) / len(bert_scores[\"f1\"]) * 100, 2)\n",
    "}\n",
    "\n",
    "print(\"\\n=== Evaluation Results ===\")\n",
    "for k, v in results.items():\n",
    "    print(f\"{k}: {v}\")"
   ]
  },
  {
   "cell_type": "markdown",
   "id": "b4b02c34-8f3a-4679-a188-64ee06d49240",
   "metadata": {},
   "source": [
    "## Save metrics and example summaries"
   ]
  },
  {
   "cell_type": "code",
   "execution_count": 7,
   "id": "c258cd13-38b6-4344-8af3-9e5a64ad7a3e",
   "metadata": {},
   "outputs": [
    {
     "name": "stdout",
     "output_type": "stream",
     "text": [
      "\n",
      "Saved results to:\n",
      " - ../outputs/eval/metrics.json\n",
      " - ../outputs/eval/examples.json\n"
     ]
    }
   ],
   "source": [
    "# Save metrics\n",
    "with open(os.path.join(save_dir, \"metrics.json\"), \"w\") as f:\n",
    "    json.dump(results, f, indent=2)\n",
    "\n",
    "# Save examples\n",
    "examples = []\n",
    "for i in range(min(5, len(predictions))):\n",
    "    examples.append({\n",
    "        \"input_excerpt\": tokenizer.decode(subset[i][\"input_ids\"][:400], skip_special_tokens=True),\n",
    "        \"pred_summary\": predictions[i],\n",
    "        \"ref_summary\": references[i]\n",
    "    })\n",
    "\n",
    "with open(os.path.join(save_dir, \"examples.json\"), \"w\") as f:\n",
    "    json.dump(examples, f, indent=2)\n",
    "\n",
    "print(\"\\nSaved results to:\")\n",
    "print(f\" - {save_dir}/metrics.json\")\n",
    "print(f\" - {save_dir}/examples.json\")"
   ]
  },
  {
   "cell_type": "markdown",
   "id": "ad77e823-489b-45f2-a69a-70b0d63c0735",
   "metadata": {},
   "source": [
    "## Visualize metric comparison"
   ]
  },
  {
   "cell_type": "code",
   "execution_count": 8,
   "id": "b227f806-19b3-48e4-9669-f3effef3200e",
   "metadata": {},
   "outputs": [
    {
     "data": {
      "image/png": "[encoded data removed]",
      "text/plain": [
       "<Figure size 700x400 with 1 Axes>"
      ]
     },
     "metadata": {},
     "output_type": "display_data"
    }
   ],
   "source": [
    "import matplotlib.pyplot as plt\n",
    "\n",
    "plt.figure(figsize=(7,4))\n",
    "plt.bar([\"ROUGE-1\", \"ROUGE-2\", \"ROUGE-L\"], \n",
    "        [results[\"rouge1\"], results[\"rouge2\"], results[\"rougeL\"]],\n",
    "        color=[\"steelblue\", \"skyblue\", \"lightcoral\"])\n",
    "plt.title(\"ROUGE Scores\")\n",
    "plt.ylabel(\"Score (%)\")\n",
    "plt.show()"
   ]
  },
  {
   "cell_type": "markdown",
   "id": "5a3e9325-97e6-406d-ba2e-a5ac36228630",
   "metadata": {},
   "source": [
    "## Notebook Summary\n",
    "\n",
    "- Loaded fine-tuned BART model.\n",
    "- Generated summaries on validation set.\n",
    "- Computed ROUGE and BERTScore metrics.\n",
    "- Saved results and qualitative examples.\n",
    "\n",
    "Results saved to: `outputs/eval/`.\n",
    "\n",
    "Next step (optional): deploy via `app/app.py` to create an interactive summarization demo."
   ]
  }
 ],
 "metadata": {
  "kernelspec": {
   "display_name": "Python 3 (ipykernel)",
   "language": "python",
   "name": "python3"
  },
  "language_info": {
   "codemirror_mode": {
    "name": "ipython",
    "version": 3
   },
   "file_extension": ".py",
   "mimetype": "text/x-python",
   "name": "python",
   "nbconvert_exporter": "python",
   "pygments_lexer": "ipython3",
   "version": "3.8.16"
  }
 },
 "nbformat": 4,
 "nbformat_minor": 5
}
