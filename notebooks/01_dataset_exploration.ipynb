{
 "cells": [
  {
   "cell_type": "markdown",
   "id": "8bd599cb-3db5-455f-b6f2-723dd7df8e14",
   "metadata": {},
   "source": [
    "# 01 — Dataset Exploration\n",
    "\n",
    "This notebook loads and explores the *scientific_papers/arxiv* dataset used for abstractive summarization.\n",
    "We will:\n",
    "1. Inspect dataset splits and fields.\n",
    "2. Examine a few samples (article → abstract).\n",
    "3. Analyze text length distributions.\n",
    "4. Verify tokenization process for BART.\n",
    "\n",
    "By the end, we’ll confirm that the dataset is correctly cached and ready for training."
   ]
  },
  {
   "cell_type": "code",
   "execution_count": 1,
   "id": "3cf5e8b5-4b92-4548-bcdb-1834a6f71d39",
   "metadata": {},
   "outputs": [],
   "source": [
    "import os\n",
    "import sys\n",
    "sys.path.append(os.path.abspath(os.path.join(os.getcwd(), \"..\")))\n",
    "\n",
    "import numpy as np\n",
    "import pandas as pd\n",
    "import matplotlib.pyplot as plt\n",
    "import seaborn as sns\n",
    "\n",
    "from datasets import load_dataset, load_from_disk\n",
    "from transformers import AutoTokenizer\n",
    "\n",
    "# Local imports\n",
    "from src.data_loader import load_or_build_tokenized\n",
    "from src.seed_utils import set_seed\n",
    "\n",
    "set_seed(42)"
   ]
  },
  {
   "cell_type": "markdown",
   "id": "c233a954-8c57-43e5-818f-dd5ab7294031",
   "metadata": {},
   "source": [
    "## Load the dataset\n",
    "\n",
    "We'll load the *scientific_papers/arxiv* dataset through our data loader.\n",
    "The first run downloads and tokenizes the full dataset; later runs reuse cached versions under `data/cache/`."
   ]
  },
  {
   "cell_type": "code",
   "execution_count": 2,
   "id": "cc315408-b2fd-4a4a-a1c8-2046937fe48a",
   "metadata": {},
   "outputs": [
    {
     "name": "stderr",
     "output_type": "stream",
     "text": [
      "/opt/anaconda3/lib/python3.12/site-packages/datasets/load.py:1486: FutureWarning: The repository for scientific_papers contains custom code which must be executed to correctly load the dataset. You can inspect the repository content at https://hf.co/datasets/scientific_papers\n",
      "You can avoid this message in future by passing the argument `trust_remote_code=True`.\n",
      "Passing `trust_remote_code=True` will be mandatory to load this dataset from the next major release of `datasets`.\n",
      "  warnings.warn(\n"
     ]
    },
    {
     "data": {
      "application/vnd.jupyter.widget-view+json": {
       "model_id": "5c1f03345976433e8bc196b7648dd955",
       "version_major": 2,
       "version_minor": 0
      },
      "text/plain": [
       "Saving the dataset (0/15 shards):   0%|          | 0/203037 [00:00<?, ? examples/s]"
      ]
     },
     "metadata": {},
     "output_type": "display_data"
    },
    {
     "data": {
      "application/vnd.jupyter.widget-view+json": {
       "model_id": "0cb2831805d7465ab41305d0145a2728",
       "version_major": 2,
       "version_minor": 0
      },
      "text/plain": [
       "Saving the dataset (0/1 shards):   0%|          | 0/6436 [00:00<?, ? examples/s]"
      ]
     },
     "metadata": {},
     "output_type": "display_data"
    },
    {
     "data": {
      "application/vnd.jupyter.widget-view+json": {
       "model_id": "62b596c917fa4b0bb0eaf5705fb673d7",
       "version_major": 2,
       "version_minor": 0
      },
      "text/plain": [
       "Saving the dataset (0/1 shards):   0%|          | 0/6440 [00:00<?, ? examples/s]"
      ]
     },
     "metadata": {},
     "output_type": "display_data"
    },
    {
     "name": "stderr",
     "output_type": "stream",
     "text": [
      "/opt/anaconda3/lib/python3.12/site-packages/huggingface_hub/file_download.py:945: FutureWarning: `resume_download` is deprecated and will be removed in version 1.0.0. Downloads always resume when possible. If you want to force a new download, use `force_download=True`.\n",
      "  warnings.warn(\n"
     ]
    },
    {
     "data": {
      "application/vnd.jupyter.widget-view+json": {
       "model_id": "2fbb07eb6b8245a6a19ae5fe93430b0f",
       "version_major": 2,
       "version_minor": 0
      },
      "text/plain": [
       "Tokenizing scientific_papers/arxiv:   0%|          | 0/6440 [00:00<?, ? examples/s]"
      ]
     },
     "metadata": {},
     "output_type": "display_data"
    },
    {
     "name": "stderr",
     "output_type": "stream",
     "text": [
      "/opt/anaconda3/lib/python3.12/site-packages/transformers/tokenization_utils_base.py:3921: UserWarning: `as_target_tokenizer` is deprecated and will be removed in v5 of Transformers. You can tokenize your labels by using the argument `text_target` of the regular `__call__` method (either in the same call as your input texts if you use the same keyword arguments, or in a separate call.\n",
      "  warnings.warn(\n"
     ]
    },
    {
     "data": {
      "application/vnd.jupyter.widget-view+json": {
       "model_id": "a8848917c85944adb5ee542a18985318",
       "version_major": 2,
       "version_minor": 0
      },
      "text/plain": [
       "Saving the dataset (0/17 shards):   0%|          | 0/203037 [00:00<?, ? examples/s]"
      ]
     },
     "metadata": {},
     "output_type": "display_data"
    },
    {
     "data": {
      "application/vnd.jupyter.widget-view+json": {
       "model_id": "6d74926ac0d04ad2a6d602468a1a04a3",
       "version_major": 2,
       "version_minor": 0
      },
      "text/plain": [
       "Saving the dataset (0/1 shards):   0%|          | 0/6436 [00:00<?, ? examples/s]"
      ]
     },
     "metadata": {},
     "output_type": "display_data"
    },
    {
     "data": {
      "application/vnd.jupyter.widget-view+json": {
       "model_id": "973a96ef2e4d4d909100afe0be027f5d",
       "version_major": 2,
       "version_minor": 0
      },
      "text/plain": [
       "Saving the dataset (0/1 shards):   0%|          | 0/6440 [00:00<?, ? examples/s]"
      ]
     },
     "metadata": {},
     "output_type": "display_data"
    },
    {
     "name": "stdout",
     "output_type": "stream",
     "text": [
      "Splits: ['train', 'validation', 'test']\n",
      "train: 203037 samples\n",
      "validation: 6436 samples\n",
      "test: 6440 samples\n"
     ]
    }
   ],
   "source": [
    "raw, tok = load_or_build_tokenized(\n",
    "    dataset_name=\"scientific_papers\",\n",
    "    subset=\"arxiv\",\n",
    "    model_name=\"facebook/bart-base\",\n",
    "    max_input_len=1024,\n",
    "    max_target_len=256\n",
    ")\n",
    "\n",
    "print(f\"Splits: {list(raw.keys())}\")\n",
    "for split in raw:\n",
    "    print(f\"{split}: {len(raw[split])} samples\")"
   ]
  },
  {
   "cell_type": "markdown",
   "id": "6031a28a-7b25-4aca-9f65-da8a15304eaa",
   "metadata": {},
   "source": [
    "## Inspect dataset structure\n",
    "\n",
    "Each entry contains:\n",
    "- `article`: the full text (input)\n",
    "- `abstract`: the target summary\n",
    "\n",
    "Let's print one example to confirm."
   ]
  },
  {
   "cell_type": "code",
   "execution_count": 3,
   "id": "9659c81f-b3d1-439d-abcb-5b6f74f7ad36",
   "metadata": {},
   "outputs": [
    {
     "name": "stdout",
     "output_type": "stream",
     "text": [
      "=== ARTICLE EXCERPT ===\n",
      "additive models @xcite provide an important family of models for semiparametric regression or classification . some reasons for the success of additive models are their increased flexibility when compared to linear or generalized linear models and their increased interpretability when compared to fully nonparametric models .\n",
      "it is well - known that good estimators in additive models are in general less prone to the curse of high dimensionality than good estimators in fully nonparametric models .\n",
      "many examples of such estimators belong to the large class of regularized kernel based methods over a reproducing kernel hilbert space @xmath0 , see e.g. @xcite . in the last years\n",
      "many interesting results on learning rates of regularized kernel based models for additive models have been published when the focus is on sparsity and when the classical least squares loss function is used , see e.g. @xcite , @xcite , @xcite , @xcite , @xcite , @xcite and the references therein . of course , the lea ...\n",
      "\n",
      "=== ABSTRACT ===\n",
      " additive models play an important role in semiparametric statistics . \n",
      " this paper gives learning rates for regularized kernel based methods for additive models . \n",
      " these learning rates compare favourably in particular in high dimensions to recent results on optimal learning rates for purely nonparametric regularized kernel based quantile regression using the gaussian radial basis function kernel , provided the assumption of an additive model is valid . \n",
      " additionally , a concrete example is presented to show that a gaussian function depending only on one variable lies in a reproducing kernel hilbert space generated by an additive gaussian kernel , but does not belong to the reproducing kernel hilbert space generated by the multivariate gaussian kernel of the same variance .    * \n",
      " key words and phrases . * additive model , kernel , quantile regression , semiparametric , rate of convergence , support vector machine . \n"
     ]
    }
   ],
   "source": [
    "sample = raw[\"train\"][0]\n",
    "print(\"=== ARTICLE EXCERPT ===\")\n",
    "print(sample[\"article\"][:1000], \"...\")\n",
    "print(\"\\n=== ABSTRACT ===\")\n",
    "print(sample[\"abstract\"])"
   ]
  },
  {
   "cell_type": "markdown",
   "id": "3cb6fd30-3910-4411-93e0-17378968c573",
   "metadata": {},
   "source": [
    "## Analyze article length distribution\n",
    "\n",
    "Understanding input lengths helps decide on `max_input_len`.\n",
    "We'll sample a few thousand entries to plot character and token distributions."
   ]
  },
  {
   "cell_type": "code",
   "execution_count": 5,
   "id": "5e7068f4-08cd-4878-8505-93a0fe7488f4",
   "metadata": {},
   "outputs": [
    {
     "data": {
      "image/png": "[encoded data removed]",
      "text/plain": [
       "<Figure size 1000x500 with 1 Axes>"
      ]
     },
     "metadata": {},
     "output_type": "display_data"
    },
    {
     "name": "stdout",
     "output_type": "stream",
     "text": [
      "Average tokens: 8632.79\n",
      "95th percentile: 20380\n"
     ]
    }
   ],
   "source": [
    "tokenizer = AutoTokenizer.from_pretrained(\"facebook/bart-base\")\n",
    "\n",
    "# Sample subset for faster stats\n",
    "texts = [x[\"article\"] for x in raw[\"train\"].select(range(2000))]\n",
    "lengths = [len(tokenizer.tokenize(t)) for t in texts]\n",
    "\n",
    "plt.figure(figsize=(10,5))\n",
    "sns.histplot(lengths, bins=50, kde=True)\n",
    "plt.title(\"Token Length Distribution (Articles)\")\n",
    "plt.xlabel(\"Token count\")\n",
    "plt.ylabel(\"Frequency\")\n",
    "plt.show()\n",
    "\n",
    "print(f\"Average tokens: {np.mean(lengths):.2f}\")\n",
    "print(f\"95th percentile: {np.percentile(lengths, 95):.0f}\")"
   ]
  },
  {
   "cell_type": "markdown",
   "id": "23dd6c8a-6664-47cd-9639-36592dfcdcf4",
   "metadata": {},
   "source": [
    "## Analyze abstract (summary) lengths"
   ]
  },
  {
   "cell_type": "code",
   "execution_count": 6,
   "id": "2cd60d76-5e6e-4bf7-9504-d61f8605a4e1",
   "metadata": {},
   "outputs": [
    {
     "data": {
      "image/png": "[encoded data removed]",
      "text/plain": [
       "<Figure size 1000x500 with 1 Axes>"
      ]
     },
     "metadata": {},
     "output_type": "display_data"
    },
    {
     "name": "stdout",
     "output_type": "stream",
     "text": [
      "Average abstract tokens: 386.83\n",
      "95th percentile: 699\n"
     ]
    }
   ],
   "source": [
    "summaries = [x[\"abstract\"] for x in raw[\"train\"].select(range(2000))]\n",
    "sum_lens = [len(tokenizer.tokenize(t)) for t in summaries]\n",
    "\n",
    "plt.figure(figsize=(10,5))\n",
    "sns.histplot(sum_lens, bins=50, kde=True, color=\"orange\")\n",
    "plt.title(\"Token Length Distribution (Abstracts)\")\n",
    "plt.xlabel(\"Token count\")\n",
    "plt.ylabel(\"Frequency\")\n",
    "plt.show()\n",
    "\n",
    "print(f\"Average abstract tokens: {np.mean(sum_lens):.2f}\")\n",
    "print(f\"95th percentile: {np.percentile(sum_lens, 95):.0f}\")"
   ]
  },
  {
   "cell_type": "markdown",
   "id": "1c05762e-abaa-417c-896f-611f2316e4f4",
   "metadata": {},
   "source": [
    "## Verify tokenized dataset\n",
    "\n",
    "Confirm that the tokenized cache matches expectations (input_ids, attention_mask, labels)."
   ]
  },
  {
   "cell_type": "code",
   "execution_count": 7,
   "id": "9e0ad894-958d-430b-8ccf-4fe4063a67cd",
   "metadata": {
    "scrolled": true
   },
   "outputs": [
    {
     "name": "stdout",
     "output_type": "stream",
     "text": [
      "DatasetDict({\n",
      "    train: Dataset({\n",
      "        features: ['article', 'abstract', 'input_ids', 'attention_mask', 'labels'],\n",
      "        num_rows: 203037\n",
      "    })\n",
      "    validation: Dataset({\n",
      "        features: ['article', 'abstract', 'input_ids', 'attention_mask', 'labels'],\n",
      "        num_rows: 6436\n",
      "    })\n",
      "    test: Dataset({\n",
      "        features: ['article', 'abstract', 'input_ids', 'attention_mask', 'labels'],\n",
      "        num_rows: 6440\n",
      "    })\n",
      "})\n",
      "['article', 'abstract', 'input_ids', 'attention_mask', 'labels']\n",
      "dict_keys(['article', 'abstract', 'input_ids', 'attention_mask', 'labels'])\n"
     ]
    }
   ],
   "source": [
    "print(tok)\n",
    "print(tok[\"train\"].column_names)\n",
    "print(tok[\"train\"][0].keys())"
   ]
  },
  {
   "cell_type": "markdown",
   "id": "e6f725e6-7ce7-45f8-8177-38b908886e46",
   "metadata": {},
   "source": [
    "## Stage 1 Notebook Summary\n",
    "\n",
    "- Dataset successfully loaded and tokenized.\n",
    "- Verified 3 splits (train/validation/test).\n",
    "- Checked article and abstract length distributions.\n",
    "- Confirmed cache integrity.\n",
    "\n",
    "Next: move to **02_model_training.ipynb** for fine-tuning BART on this dataset."
   ]
  }
 ],
 "metadata": {
  "kernelspec": {
   "display_name": "Python 3 (ipykernel)",
   "language": "python",
   "name": "python3"
  },
  "language_info": {
   "codemirror_mode": {
    "name": "ipython",
    "version": 3
   },
   "file_extension": ".py",
   "mimetype": "text/x-python",
   "name": "python",
   "nbconvert_exporter": "python",
   "pygments_lexer": "ipython3",
   "version": "3.12.2"
  }
 },
 "nbformat": 4,
 "nbformat_minor": 5
}
